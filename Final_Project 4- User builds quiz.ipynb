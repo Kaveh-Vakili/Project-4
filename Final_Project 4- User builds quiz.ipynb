{
 "cells": [
  {
   "cell_type": "code",
   "execution_count": 106,
   "metadata": {},
   "outputs": [
    {
     "name": "stdout",
     "output_type": "stream",
     "text": [
      "Welcome to GoQuiz! Your short answer quiz can only 5 questions long. Once you are finished, your quiz will be stored!\n",
      "What would you like to name your quiz? Colors\n",
      "Enter your 1st question: sky\n",
      "Enter the correct answer for the question: blue\n",
      "Enter your 2nd question: grass\n",
      "Enter the correct answer for the 2nd question: green\n",
      "Enter your 3rd question: ocean\n",
      "Enter the correct answer for the 3rd question: blue\n",
      "Enter your 4th question: clouds\n",
      "Enter the correct answer for the 4th question: white\n",
      "Enter your 5th question: charcoal\n",
      "Enter the correct answer for the 5th question: black\n",
      "Your quiz has been stored!\n"
     ]
    }
   ],
   "source": [
    "#All Najwa Abdella's code contributions\n",
    "print('Welcome to GoQuiz! Your short answer quiz can only 5 questions long. Once you are finished, your quiz will be stored!') \n",
    "name= input('What would you like to name your quiz? ')  \n",
    "question1=input('Enter your 1st question: ')\n",
    "answer1=input('Enter the correct answer for the question: ')\n",
    "question2=input('Enter your 2nd question: ')\n",
    "answer2=input('Enter the correct answer for the 2nd question: ')\n",
    "question3=input('Enter your 3rd question: ')\n",
    "answer3=input('Enter the correct answer for the 3rd question: ')\n",
    "question4=input('Enter your 4th question: ')\n",
    "answer4=input('Enter the correct answer for the 4th question: ')\n",
    "question5=input('Enter your 5th question: ')\n",
    "answer5=input('Enter the correct answer for the 5th question: ')\n",
    "print('Your quiz has been stored!')\n",
    "s = open('quizz.txt', 'a') \n",
    "s.write(f' Quiz Title: {name}\\n' ) \n",
    "s.write('* * * * * * * * * * * * * * * * * * * * * * * * * * * * * * * * * * * * * * * * *\\n') \n",
    "s.write('\\n')\n",
    "s.write(f'Questions-----:\\n{question1}\\n{question2}\\n{question3}\\n{question4}\\n{question5} ')\n",
    "s.write('\\n')\n",
    "s.write(f'Answers------:\\n{answer1}\\n{answer2}\\n{answer3}\\n{answer4}\\n{answer4}')\n",
    "s.close()\n",
    "\n"
   ]
  }
 ],
 "metadata": {
  "kernelspec": {
   "display_name": "Python 3",
   "language": "python",
   "name": "python3"
  },
  "language_info": {
   "codemirror_mode": {
    "name": "ipython",
    "version": 3
   },
   "file_extension": ".py",
   "mimetype": "text/x-python",
   "name": "python",
   "nbconvert_exporter": "python",
   "pygments_lexer": "ipython3",
   "version": "3.8.5"
  }
 },
 "nbformat": 4,
 "nbformat_minor": 4
}
