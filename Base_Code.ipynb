{
 "cells": [
  {
   "cell_type": "code",
   "execution_count": 75,
   "metadata": {},
   "outputs": [
    {
     "name": "stdout",
     "output_type": "stream",
     "text": [
      "What is the capital of Maryland?\n",
      "(a) Annapolis\n",
      "(b) Baltimore\n",
      "(c) Gaithersburg\n",
      "(d) Columbia\n",
      "\n",
      "a\n",
      "Which NCAA conference is UMD in?\n",
      "(a) SEC\n",
      "(b) ACC\n",
      "(c) Big Ten\n",
      "(d) Big Twelve\n",
      "\n",
      "\n",
      "What is the team name of all UMD sports teams?\n",
      "(a) Terrapins\n",
      "(b) Bobcats\n",
      "(c) Warriors\n",
      "(d) Spartans\n",
      "\n",
      "\n",
      "What is the name of UMD's mascot?\n",
      "(a) Terry\n",
      "(b) Testudo \n",
      "(c) Thomas\n",
      "(d) Teddy\n",
      "\n",
      "\n",
      "What year was UMD founded?\n",
      "(a) 1893\n",
      "(b) 1798\n",
      "(c) 1854\n",
      "(d) 1856\n",
      "\n",
      "\n",
      "End of Quiz!\n",
      "Final Score: 1/5\n"
     ]
    }
   ],
   "source": [
    "# Working format for multiple choice quiz, more questions to be added later. This format will also be used to create a true and false section of our application, and also a build your own section where users will be able to put in their own questions and answers.\n",
    "##Functions to be called: run_quiz(), create_your_own(), t_or_f()\n",
    "\n",
    "\n",
    "#I created a new datatype called Question to specify the two parts of the questions being asked, the prompt and the correct answer.\n",
    "class Question:\n",
    "     def __init__(self, prompt, answer):\n",
    "          self.prompt = prompt\n",
    "          self.answer = answer\n",
    "\n",
    "#The list of all questions and possible answers\n",
    "question_prompts = [\n",
    "     \"What is the capital of Maryland?\\n(a) Annapolis\\n(b) Baltimore\\n(c) Gaithersburg\\n(d) Columbia\\n\\n\",\n",
    "     \"Which NCAA conference is UMD in?\\n(a) SEC\\n(b) ACC\\n(c) Big Ten\\n(d) Big Twelve\\n\\n\",\n",
    "     \"What is the team name of all UMD sports teams?\\n(a) Terrapins\\n(b) Bobcats\\n(c) Warriors\\n(d) Spartans\\n\\n\",\n",
    "     \"What is the name of UMD's mascot?\\n(a) Terry\\n(b) Testudo \\n(c) Thomas\\n(d) Teddy\\n\\n\",\n",
    "     \"What year was UMD founded?\\n(a) 1893\\n(b) 1798\\n(c) 1854\\n(d) 1856\\n\\n\"\n",
    "]\n",
    "\n",
    "#Assigning the correct answer to each question\n",
    "questions = [\n",
    "        Question(question_prompts[0], \"a\"),\n",
    "        Question(question_prompts[1], \"c\"),\n",
    "        Question(question_prompts[2], \"a\"),\n",
    "        Question(question_prompts[3], \"b\"),\n",
    "        Question(question_prompts[4], \"d\"),\n",
    "]\n",
    "\n",
    "#This funtion will run the quiz. It asks the users questions in order and will give them a final score based off of which ones they answer correctly.\n",
    "def run_quiz(questions):\n",
    "     score = 0\n",
    "     for question in questions:\n",
    "          answer = input(question.prompt)\n",
    "          if answer == question.answer:\n",
    "               score += 1\n",
    "     print(f\"End of Quiz!\\nFinal Score: {score}/{len(questions)}\")\n",
    "\n",
    "run_quiz(questions)"
   ]
  },
  {
   "cell_type": "code",
   "execution_count": null,
   "metadata": {},
   "outputs": [],
   "source": []
  },
  {
   "cell_type": "code",
   "execution_count": null,
   "metadata": {},
   "outputs": [],
   "source": []
  }
 ],
 "metadata": {
  "kernelspec": {
   "display_name": "Python 3",
   "language": "python",
   "name": "python3"
  },
  "language_info": {
   "codemirror_mode": {
    "name": "ipython",
    "version": 3
   },
   "file_extension": ".py",
   "mimetype": "text/x-python",
   "name": "python",
   "nbconvert_exporter": "python",
   "pygments_lexer": "ipython3",
   "version": "3.8.5"
  }
 },
 "nbformat": 4,
 "nbformat_minor": 4
}
