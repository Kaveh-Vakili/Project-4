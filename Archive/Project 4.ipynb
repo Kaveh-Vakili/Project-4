{
 "cells": [
  {
   "cell_type": "code",
   "execution_count": 10,
   "metadata": {},
   "outputs": [],
   "source": [
    "\n",
    "def askQuestions(quiz):\n",
    "    totalscore=0\n",
    "    answers=['Maryland','Univeristy of Maryland','Big 10','Terrapins']\n",
    "    print(\"How well do you know Maryland QUIZ? \")\n",
    "    print(\"What is the capital of \",answers[1])\n",
    "    totalscore=calculatescore(answers,quiz,1,totalscore)\n",
    "    print(\"What city is located for the  \"+quiz[2])\n",
    "    totalscore=calculatescore(answers,quiz,2,totalscore)\n",
    "    print(\"What sports league is the University of Maryland in? \"+quiz[0])\n",
    "    totalscore=calculatescore(answers,quiz,0,totalscore)\n",
    "    print(\"What is the mascot of the University of Maryland? \"+states[3])\n",
    "    totalscore=calculatescore(answers,quiz,3,totalscore)\n",
    "\n",
    "    print(\"Your Total score is : \"+str(totalscore))\n",
    "  \n",
    "    def calculatescore(answers,quiz,i,totalscore):\n",
    "\n",
    "        useranswer=input().strip().upper()\n",
    "        canswer=quiz[answers[i]].strip().upper()\n",
    "  \n",
    "        if(canswer==useranswer):\n",
    "  \n",
    "            return totalscore+1\n",
    "        else:\n",
    "            return totalscore\n",
    "    \n",
    "    \n",
    "def readFromFile():\n",
    "    d={}\n",
    "    with open(\"Project4Quiz.txt\",\"r\") as fp:\n",
    "        tracker=fp.readlines()\n",
    "      \n",
    "        count=1\n",
    "        for i in range(len(tracker)-1):\n",
    "            if i==0:\n",
    "                line=tracker[0].strip().split(\":\")\n",
    "                line[0]=line[0][1:]\n",
    "                d[line[0]]=line[1]\n",
    "            else:\n",
    "                line=tracker[i].lstrip().split(\":\")\n",
    "                d[line[0]]=line[1]\n",
    "\n",
    "        askQuestions(d)\n",
    "       \n",
    "\n",
    "    \n",
    "  \n"
   ]
  },
  {
   "cell_type": "code",
   "execution_count": 9,
   "metadata": {},
   "outputs": [
    {
     "name": "stdout",
     "output_type": "stream",
     "text": [
      "How well do you know Maryland QUIZ? \n",
      "What is the capital of  Univeristy of Maryland\n"
     ]
    },
    {
     "ename": "UnboundLocalError",
     "evalue": "local variable 'calculatescore' referenced before assignment",
     "output_type": "error",
     "traceback": [
      "\u001b[0;31m---------------------------------------------------------------------------\u001b[0m",
      "\u001b[0;31mUnboundLocalError\u001b[0m                         Traceback (most recent call last)",
      "\u001b[0;32m<ipython-input-9-639cd5f1a191>\u001b[0m in \u001b[0;36m<module>\u001b[0;34m\u001b[0m\n\u001b[0;32m----> 1\u001b[0;31m \u001b[0mreadFromFile\u001b[0m\u001b[0;34m(\u001b[0m\u001b[0;34m)\u001b[0m\u001b[0;34m\u001b[0m\u001b[0;34m\u001b[0m\u001b[0m\n\u001b[0m",
      "\u001b[0;32m<ipython-input-8-5a02026a9e85>\u001b[0m in \u001b[0;36mreadFromFile\u001b[0;34m()\u001b[0m\n\u001b[1;32m     41\u001b[0m                 \u001b[0md\u001b[0m\u001b[0;34m[\u001b[0m\u001b[0mline\u001b[0m\u001b[0;34m[\u001b[0m\u001b[0;36m0\u001b[0m\u001b[0;34m]\u001b[0m\u001b[0;34m]\u001b[0m\u001b[0;34m=\u001b[0m\u001b[0mline\u001b[0m\u001b[0;34m[\u001b[0m\u001b[0;36m1\u001b[0m\u001b[0;34m]\u001b[0m\u001b[0;34m\u001b[0m\u001b[0;34m\u001b[0m\u001b[0m\n\u001b[1;32m     42\u001b[0m \u001b[0;34m\u001b[0m\u001b[0m\n\u001b[0;32m---> 43\u001b[0;31m         \u001b[0maskQuestions\u001b[0m\u001b[0;34m(\u001b[0m\u001b[0md\u001b[0m\u001b[0;34m)\u001b[0m\u001b[0;34m\u001b[0m\u001b[0;34m\u001b[0m\u001b[0m\n\u001b[0m\u001b[1;32m     44\u001b[0m \u001b[0;34m\u001b[0m\u001b[0m\n\u001b[1;32m     45\u001b[0m \u001b[0;34m\u001b[0m\u001b[0m\n",
      "\u001b[0;32m<ipython-input-8-5a02026a9e85>\u001b[0m in \u001b[0;36maskQuestions\u001b[0;34m(quiz)\u001b[0m\n\u001b[1;32m      4\u001b[0m     \u001b[0mprint\u001b[0m\u001b[0;34m(\u001b[0m\u001b[0;34m\"How well do you know Maryland QUIZ? \"\u001b[0m\u001b[0;34m)\u001b[0m\u001b[0;34m\u001b[0m\u001b[0;34m\u001b[0m\u001b[0m\n\u001b[1;32m      5\u001b[0m     \u001b[0mprint\u001b[0m\u001b[0;34m(\u001b[0m\u001b[0;34m\"What is the capital of \"\u001b[0m\u001b[0;34m,\u001b[0m\u001b[0manswers\u001b[0m\u001b[0;34m[\u001b[0m\u001b[0;36m1\u001b[0m\u001b[0;34m]\u001b[0m\u001b[0;34m)\u001b[0m\u001b[0;34m\u001b[0m\u001b[0;34m\u001b[0m\u001b[0m\n\u001b[0;32m----> 6\u001b[0;31m     \u001b[0mtotalscore\u001b[0m\u001b[0;34m=\u001b[0m\u001b[0mcalculatescore\u001b[0m\u001b[0;34m(\u001b[0m\u001b[0manswers\u001b[0m\u001b[0;34m,\u001b[0m\u001b[0mquiz\u001b[0m\u001b[0;34m,\u001b[0m\u001b[0;36m1\u001b[0m\u001b[0;34m,\u001b[0m\u001b[0mtotalscore\u001b[0m\u001b[0;34m)\u001b[0m\u001b[0;34m\u001b[0m\u001b[0;34m\u001b[0m\u001b[0m\n\u001b[0m\u001b[1;32m      7\u001b[0m     \u001b[0mprint\u001b[0m\u001b[0;34m(\u001b[0m\u001b[0;34m\"What city is located for the  \"\u001b[0m\u001b[0;34m+\u001b[0m\u001b[0mquiz\u001b[0m\u001b[0;34m[\u001b[0m\u001b[0;36m2\u001b[0m\u001b[0;34m]\u001b[0m\u001b[0;34m)\u001b[0m\u001b[0;34m\u001b[0m\u001b[0;34m\u001b[0m\u001b[0m\n\u001b[1;32m      8\u001b[0m     \u001b[0mtotalscore\u001b[0m\u001b[0;34m=\u001b[0m\u001b[0mcalculatescore\u001b[0m\u001b[0;34m(\u001b[0m\u001b[0manswers\u001b[0m\u001b[0;34m,\u001b[0m\u001b[0mquiz\u001b[0m\u001b[0;34m,\u001b[0m\u001b[0;36m2\u001b[0m\u001b[0;34m,\u001b[0m\u001b[0mtotalscore\u001b[0m\u001b[0;34m)\u001b[0m\u001b[0;34m\u001b[0m\u001b[0;34m\u001b[0m\u001b[0m\n",
      "\u001b[0;31mUnboundLocalError\u001b[0m: local variable 'calculatescore' referenced before assignment"
     ]
    }
   ],
   "source": [
    "    readFromFile()\n"
   ]
  },
  {
   "cell_type": "code",
   "execution_count": null,
   "metadata": {},
   "outputs": [],
   "source": []
  }
 ],
 "metadata": {
  "kernelspec": {
   "display_name": "Python 3",
   "language": "python",
   "name": "python3"
  },
  "language_info": {
   "codemirror_mode": {
    "name": "ipython",
    "version": 3
   },
   "file_extension": ".py",
   "mimetype": "text/x-python",
   "name": "python",
   "nbconvert_exporter": "python",
   "pygments_lexer": "ipython3",
   "version": "3.8.5"
  }
 },
 "nbformat": 4,
 "nbformat_minor": 4
}
